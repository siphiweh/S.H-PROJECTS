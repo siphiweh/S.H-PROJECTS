{
 "cells": [
  {
   "cell_type": "markdown",
   "id": "763076d3",
   "metadata": {},
   "source": [
    "## Hands-on"
   ]
  },
  {
   "cell_type": "markdown",
   "id": "97c17651",
   "metadata": {},
   "source": [
    "### Exercise on If Statement and For Loop, better understand how for loop and if statement work\n",
    "### **1.** Do this exercise again, find the largest value in the given list"
   ]
  },
  {
   "cell_type": "code",
   "execution_count": 4,
   "id": "f8ec097b",
   "metadata": {},
   "outputs": [],
   "source": [
    "number_list = [13, 22, 5, 17, 21, 36, 99, 101, 6]\n"
   ]
  },
  {
   "cell_type": "code",
   "execution_count": 51,
   "id": "1b948225",
   "metadata": {},
   "outputs": [],
   "source": [
    "largest_number = -10000"
   ]
  },
  {
   "cell_type": "code",
   "execution_count": 53,
   "id": "efc7607a",
   "metadata": {},
   "outputs": [
    {
     "name": "stdout",
     "output_type": "stream",
     "text": [
      "101 is the largest number\n"
     ]
    }
   ],
   "source": [
    "for i in number_list:\n",
    "    if i>largest_number < i:\n",
    "        largest_number = i\n",
    "print(largest_number, 'is the largest number')"
   ]
  },
  {
   "cell_type": "code",
   "execution_count": 11,
   "id": "fe8ab3ae",
   "metadata": {},
   "outputs": [],
   "source": [
    "fruit_list = ['kiwi', 'apple', 'watermelton', 'pear', 'grape']"
   ]
  },
  {
   "cell_type": "code",
   "execution_count": 12,
   "id": "792a2a7f",
   "metadata": {},
   "outputs": [
    {
     "name": "stdout",
     "output_type": "stream",
     "text": [
      "before: kiwi\n",
      "after strawberry\n",
      "==========\n",
      "before: apple\n",
      "after strawberry\n",
      "==========\n",
      "before: watermelton\n",
      "after strawberry\n",
      "==========\n",
      "before: pear\n",
      "after strawberry\n",
      "==========\n",
      "before: grape\n",
      "after strawberry\n",
      "==========\n"
     ]
    }
   ],
   "source": [
    "for item in fruit_list:\n",
    "    print('before:', item)\n",
    "    item = 'strawberry'\n",
    "    print('after', item, end = '\\n==========\\n')"
   ]
  },
  {
   "cell_type": "markdown",
   "id": "56470279",
   "metadata": {},
   "source": [
    "### **2.** Give a long sentence, print all the words except 'a', 'is', and 'of' (remove stop words in NLP)"
   ]
  },
  {
   "cell_type": "code",
   "execution_count": 57,
   "id": "5549bc89",
   "metadata": {},
   "outputs": [],
   "source": [
    "given_string = '''\n",
    "\n",
    "the computer is a machine that can be programmed to carry out \n",
    "sequences of arithmetic or logical \n",
    "operations automatically\n",
    "\n",
    "'''\n",
    "\n",
    "# write your code here\n",
    "\n",
    "world_list = given_string.split()"
   ]
  },
  {
   "cell_type": "markdown",
   "id": "15a6ab9c",
   "metadata": {},
   "source": [
    "#### Write the code using while loop"
   ]
  },
  {
   "cell_type": "markdown",
   "id": "004f4acd",
   "metadata": {},
   "source": []
  },
  {
   "cell_type": "markdown",
   "id": "ea061fd9",
   "metadata": {},
   "source": [
    "convert this whole string into seprated words"
   ]
  },
  {
   "cell_type": "markdown",
   "id": "80a0ed0a",
   "metadata": {},
   "source": [
    "    input: a given long string\n",
    "    output ; print all the words except a, is, and of\n",
    "    convert the whole string into separated  words\n",
    "    for all the words in the lists, we check if a word is \"a, is, of\"\n",
    "    if yes: ignore\n",
    "    else: print"
   ]
  },
  {
   "cell_type": "code",
   "execution_count": 59,
   "id": "a0ded658",
   "metadata": {},
   "outputs": [
    {
     "name": "stdout",
     "output_type": "stream",
     "text": [
      "['the', 'computer', 'is', 'a', 'machine', 'that', 'can', 'be', 'programmed', 'to', 'carry', 'out', 'sequences', 'of', 'arithmetic', 'or', 'logical', 'operations', 'automatically'] "
     ]
    }
   ],
   "source": [
    "print(world_list, end = ' ')"
   ]
  },
  {
   "cell_type": "code",
   "execution_count": 65,
   "id": "88340a66",
   "metadata": {},
   "outputs": [
    {
     "name": "stdout",
     "output_type": "stream",
     "text": [
      "the computer machine that can be programmed to carry out sequences arithmetic or logical operations automatically "
     ]
    }
   ],
   "source": [
    "i = 0\n",
    "while i < len(world_list):\n",
    "    if world_list[i] == 'a' or world_list[i] == 'is' or world_list[i] == 'of':\n",
    "        i = i + 1\n",
    "        continue\n",
    "    print(world_list[i], end = ' ')\n",
    "    i = i + 1"
   ]
  },
  {
   "cell_type": "markdown",
   "id": "d486ac94",
   "metadata": {},
   "source": [
    "#### Write the code using for loop"
   ]
  },
  {
   "cell_type": "code",
   "execution_count": 66,
   "id": "d659eb3e",
   "metadata": {},
   "outputs": [
    {
     "name": "stdout",
     "output_type": "stream",
     "text": [
      "the computer machine that can be programmed to carry out sequences arithmetic or logical operations automatically "
     ]
    }
   ],
   "source": [
    "for i in world_list:\n",
    "    if i != 'a' and i != 'is' and i != 'of':\n",
    "        print(i, end=' ')"
   ]
  },
  {
   "cell_type": "code",
   "execution_count": 67,
   "id": "6015bcf9",
   "metadata": {},
   "outputs": [
    {
     "name": "stdout",
     "output_type": "stream",
     "text": [
      "the computer machine that can be programmed to carry out sequences arithmetic or logical operations automatically "
     ]
    }
   ],
   "source": [
    "for i in world_list:\n",
    "    if not(i == 'a' or i == 'is' or i == 'of'):\n",
    "        print(i, end=' ')"
   ]
  },
  {
   "cell_type": "code",
   "execution_count": null,
   "id": "65ab1049",
   "metadata": {},
   "outputs": [],
   "source": []
  },
  {
   "cell_type": "code",
   "execution_count": null,
   "id": "ec886761",
   "metadata": {},
   "outputs": [],
   "source": []
  },
  {
   "cell_type": "code",
   "execution_count": null,
   "id": "71156af7",
   "metadata": {},
   "outputs": [],
   "source": []
  },
  {
   "cell_type": "markdown",
   "id": "35fdebc7",
   "metadata": {},
   "source": [
    "### **3.** Find all numbers from the range [100, 1000] which can be divided by 2 or can be divided by 3. Put all these numbers in a number list and print this number list"
   ]
  },
  {
   "cell_type": "markdown",
   "id": "0aa89eb9",
   "metadata": {},
   "source": [
    "  input: a range of number in [100, 10000]\n",
    "  output: print certain numbers\n",
    "  Generate an empty list\n",
    "  for every number in the range:\n",
    "  check the condiction:\n",
    "  if yes: add this number into the list"
   ]
  },
  {
   "cell_type": "code",
   "execution_count": 6,
   "id": "2daf54f1",
   "metadata": {},
   "outputs": [
    {
     "name": "stdout",
     "output_type": "stream",
     "text": [
      "[100, 102, 104, 105, 106, 108, 110, 111, 112, 114, 116, 117, 118, 120, 122, 123, 124, 126, 128, 129, 130, 132, 134, 135, 136, 138, 140, 141, 142, 144, 146, 147, 148, 150, 152, 153, 154, 156, 158, 159, 160, 162, 164, 165, 166, 168, 170, 171, 172, 174, 176, 177, 178, 180, 182, 183, 184, 186, 188, 189, 190, 192, 194, 195, 196, 198, 200, 201, 202, 204, 206, 207, 208, 210, 212, 213, 214, 216, 218, 219, 220, 222, 224, 225, 226, 228, 230, 231, 232, 234, 236, 237, 238, 240, 242, 243, 244, 246, 248, 249, 250, 252, 254, 255, 256, 258, 260, 261, 262, 264, 266, 267, 268, 270, 272, 273, 274, 276, 278, 279, 280, 282, 284, 285, 286, 288, 290, 291, 292, 294, 296, 297, 298, 300, 302, 303, 304, 306, 308, 309, 310, 312, 314, 315, 316, 318, 320, 321, 322, 324, 326, 327, 328, 330, 332, 333, 334, 336, 338, 339, 340, 342, 344, 345, 346, 348, 350, 351, 352, 354, 356, 357, 358, 360, 362, 363, 364, 366, 368, 369, 370, 372, 374, 375, 376, 378, 380, 381, 382, 384, 386, 387, 388, 390, 392, 393, 394, 396, 398, 399, 400, 402, 404, 405, 406, 408, 410, 411, 412, 414, 416, 417, 418, 420, 422, 423, 424, 426, 428, 429, 430, 432, 434, 435, 436, 438, 440, 441, 442, 444, 446, 447, 448, 450, 452, 453, 454, 456, 458, 459, 460, 462, 464, 465, 466, 468, 470, 471, 472, 474, 476, 477, 478, 480, 482, 483, 484, 486, 488, 489, 490, 492, 494, 495, 496, 498, 500, 501, 502, 504, 506, 507, 508, 510, 512, 513, 514, 516, 518, 519, 520, 522, 524, 525, 526, 528, 530, 531, 532, 534, 536, 537, 538, 540, 542, 543, 544, 546, 548, 549, 550, 552, 554, 555, 556, 558, 560, 561, 562, 564, 566, 567, 568, 570, 572, 573, 574, 576, 578, 579, 580, 582, 584, 585, 586, 588, 590, 591, 592, 594, 596, 597, 598, 600, 602, 603, 604, 606, 608, 609, 610, 612, 614, 615, 616, 618, 620, 621, 622, 624, 626, 627, 628, 630, 632, 633, 634, 636, 638, 639, 640, 642, 644, 645, 646, 648, 650, 651, 652, 654, 656, 657, 658, 660, 662, 663, 664, 666, 668, 669, 670, 672, 674, 675, 676, 678, 680, 681, 682, 684, 686, 687, 688, 690, 692, 693, 694, 696, 698, 699, 700, 702, 704, 705, 706, 708, 710, 711, 712, 714, 716, 717, 718, 720, 722, 723, 724, 726, 728, 729, 730, 732, 734, 735, 736, 738, 740, 741, 742, 744, 746, 747, 748, 750, 752, 753, 754, 756, 758, 759, 760, 762, 764, 765, 766, 768, 770, 771, 772, 774, 776, 777, 778, 780, 782, 783, 784, 786, 788, 789, 790, 792, 794, 795, 796, 798, 800, 801, 802, 804, 806, 807, 808, 810, 812, 813, 814, 816, 818, 819, 820, 822, 824, 825, 826, 828, 830, 831, 832, 834, 836, 837, 838, 840, 842, 843, 844, 846, 848, 849, 850, 852, 854, 855, 856, 858, 860, 861, 862, 864, 866, 867, 868, 870, 872, 873, 874, 876, 878, 879, 880, 882, 884, 885, 886, 888, 890, 891, 892, 894, 896, 897, 898, 900, 902, 903, 904, 906, 908, 909, 910, 912, 914, 915, 916, 918, 920, 921, 922, 924, 926, 927, 928, 930, 932, 933, 934, 936, 938, 939, 940, 942, 944, 945, 946, 948, 950, 951, 952, 954, 956, 957, 958, 960, 962, 963, 964, 966, 968, 969, 970, 972, 974, 975, 976, 978, 980, 981, 982, 984, 986, 987, 988, 990, 992, 993, 994, 996, 998, 999, 1000]\n"
     ]
    }
   ],
   "source": [
    "number_list = []\n",
    "for i in range(100, 1001):\n",
    "    if i%2 == 0 or i%3 == 0:\n",
    "        number_list.append(i)\n",
    "print(number_list)\n",
    "        "
   ]
  },
  {
   "cell_type": "code",
   "execution_count": null,
   "id": "8e66e009",
   "metadata": {},
   "outputs": [],
   "source": []
  },
  {
   "cell_type": "code",
   "execution_count": null,
   "id": "163fb0a0",
   "metadata": {},
   "outputs": [],
   "source": []
  },
  {
   "cell_type": "markdown",
   "id": "d41e3b94",
   "metadata": {},
   "source": [
    "### **4.** Go through all numbers in range [100, 150]\n",
    "     print \"the number i is 3x\" if the number is divisible by 3\n",
    "     print \"the number i is 5x\" if the number is divisible by 5\n",
    "     print \"the number i is 7x\" if the number is divisible by 7\n",
    "     print 'the number i is -x' for the rest of the numbers"
   ]
  },
  {
   "cell_type": "markdown",
   "id": "859201d4",
   "metadata": {},
   "source": [
    "    input: Given a range of numbers\n",
    "    output: Print something depending on the numbers\n",
    "     for every number in the list:\n",
    "    if the number  = 3x: print sth.\n",
    "    elif the number = 5x: print sth.\n",
    "    elif the number = 7x: print sth.\n",
    "    else: print sth."
   ]
  },
  {
   "cell_type": "code",
   "execution_count": 70,
   "id": "2eeef542",
   "metadata": {},
   "outputs": [
    {
     "name": "stdout",
     "output_type": "stream",
     "text": [
      "The number 100 is 5x\n",
      "The number 101 is -x\n",
      "The number 102 is 3x\n",
      "The number 103 is -x\n",
      "The number 104 is -x\n",
      "The number 105 is 3x\n",
      "The number 106 is -x\n",
      "The number 107 is -x\n",
      "The number 108 is 3x\n",
      "The number 109 is -x\n",
      "The number 110 is 5x\n",
      "The number 111 is 3x\n",
      "The number 112 is 7x\n",
      "The number 113 is -x\n",
      "The number 114 is 3x\n",
      "The number 115 is 5x\n",
      "The number 116 is -x\n",
      "The number 117 is 3x\n",
      "The number 118 is -x\n",
      "The number 119 is 7x\n",
      "The number 120 is 3x\n",
      "The number 121 is -x\n",
      "The number 122 is -x\n",
      "The number 123 is 3x\n",
      "The number 124 is -x\n",
      "The number 125 is 5x\n",
      "The number 126 is 3x\n",
      "The number 127 is -x\n",
      "The number 128 is -x\n",
      "The number 129 is 3x\n",
      "The number 130 is 5x\n",
      "The number 131 is -x\n",
      "The number 132 is 3x\n",
      "The number 133 is 7x\n",
      "The number 134 is -x\n",
      "The number 135 is 3x\n",
      "The number 136 is -x\n",
      "The number 137 is -x\n",
      "The number 138 is 3x\n",
      "The number 139 is -x\n",
      "The number 140 is 5x\n",
      "The number 141 is 3x\n",
      "The number 142 is -x\n",
      "The number 143 is -x\n",
      "The number 144 is 3x\n",
      "The number 145 is 5x\n",
      "The number 146 is -x\n",
      "The number 147 is 3x\n",
      "The number 148 is -x\n",
      "The number 149 is -x\n"
     ]
    }
   ],
   "source": [
    "for i in range(100,150):\n",
    "    if i%3 == 0:\n",
    "        print('The number', i, 'is 3x' )\n",
    "    elif i%5 == 0:\n",
    "        print('The number', i, 'is 5x')\n",
    "    elif i%7 == 0:\n",
    "        print('The number', i, 'is 7x')\n",
    "    else:\n",
    "        print('The number', i, 'is -x')"
   ]
  },
  {
   "cell_type": "code",
   "execution_count": null,
   "id": "02a6337a",
   "metadata": {},
   "outputs": [],
   "source": []
  },
  {
   "cell_type": "code",
   "execution_count": null,
   "id": "e8148b79",
   "metadata": {},
   "outputs": [],
   "source": []
  },
  {
   "cell_type": "code",
   "execution_count": null,
   "id": "73c744d1",
   "metadata": {},
   "outputs": [],
   "source": []
  },
  {
   "cell_type": "markdown",
   "id": "7b236940",
   "metadata": {},
   "source": [
    "### **5.** Keep asking a user input a number with the `input function`, put the input number into a number list, until a negative number is inputed. Print the number list"
   ]
  },
  {
   "cell_type": "markdown",
   "id": "35eb1d06",
   "metadata": {},
   "source": [
    "    Generate an empty list\n",
    "    user_input: ask user to input a number:\n",
    "    while the user_input is not negative:\n",
    "       append user_input into number list\n",
    "       user_input: ask user to input a number:"
   ]
  },
  {
   "cell_type": "code",
   "execution_count": 15,
   "id": "13723ff2",
   "metadata": {},
   "outputs": [
    {
     "name": "stdout",
     "output_type": "stream",
     "text": [
      "Please enter a number:1\n",
      "Please enter a number:2\n",
      "Please enter a number:3\n",
      "Please enter a number:-1\n",
      "A negative number is inputed\n",
      "[1, 2, 3]\n"
     ]
    }
   ],
   "source": [
    "number_list = []\n",
    "user_input =int(input('Please enter a number:'))\n",
    "while user_input >= 0:\n",
    "    number_list.append(user_input)\n",
    "    user_input= int(input('Please enter a number:'))\n",
    "print('A negative number is inputed')\n",
    "print(number_list)\n"
   ]
  },
  {
   "cell_type": "code",
   "execution_count": null,
   "id": "bc183dae",
   "metadata": {},
   "outputs": [],
   "source": []
  },
  {
   "cell_type": "code",
   "execution_count": null,
   "id": "b1ae4113",
   "metadata": {},
   "outputs": [],
   "source": []
  },
  {
   "cell_type": "code",
   "execution_count": null,
   "id": "a75a1e88",
   "metadata": {},
   "outputs": [],
   "source": []
  },
  {
   "cell_type": "markdown",
   "id": "fcff01ad",
   "metadata": {},
   "source": [
    "### **6.** Count how many numbers in a given list are smaller than 100."
   ]
  },
  {
   "cell_type": "code",
   "execution_count": 16,
   "id": "bc39e779",
   "metadata": {},
   "outputs": [],
   "source": [
    "number_list = [1, 3, 12, 39, 5, 90, 99, 101, 21, 37, 98]"
   ]
  },
  {
   "cell_type": "code",
   "execution_count": 17,
   "id": "7113b293",
   "metadata": {},
   "outputs": [
    {
     "name": "stdout",
     "output_type": "stream",
     "text": [
      "10\n"
     ]
    }
   ],
   "source": [
    "total_number = 0\n",
    "for item in number_list:\n",
    "    if item < 100:\n",
    "        total_number += 1\n",
    "print(total_number)"
   ]
  },
  {
   "cell_type": "code",
   "execution_count": null,
   "id": "9e5edaaa",
   "metadata": {},
   "outputs": [],
   "source": []
  },
  {
   "cell_type": "code",
   "execution_count": null,
   "id": "a0410b7f",
   "metadata": {},
   "outputs": [],
   "source": []
  },
  {
   "cell_type": "code",
   "execution_count": null,
   "id": "59b7565a",
   "metadata": {},
   "outputs": [],
   "source": []
  },
  {
   "cell_type": "code",
   "execution_count": null,
   "id": "2361d64a",
   "metadata": {},
   "outputs": [],
   "source": []
  },
  {
   "cell_type": "markdown",
   "id": "eda5cfe1",
   "metadata": {},
   "source": [
    "### **7.** Find the largest and smallest even number in a given list, and calculate Largest/Smallest"
   ]
  },
  {
   "cell_type": "code",
   "execution_count": 18,
   "id": "aa441c41",
   "metadata": {},
   "outputs": [],
   "source": [
    "number_list_1 = [13, 22, 5, 67, 102, 38, 37, 52, 97, 99]"
   ]
  },
  {
   "cell_type": "code",
   "execution_count": 20,
   "id": "efc518f5",
   "metadata": {},
   "outputs": [],
   "source": [
    "number_list_2 = [13, 22, 5, 67, 102, 38, 37, 52, 97, 99, 0]"
   ]
  },
  {
   "cell_type": "markdown",
   "id": "3d4621ec",
   "metadata": {},
   "source": [
    "    define largetst and smallest\n",
    "    largest = very small number\n",
    "    smallest = very largw number\n",
    "    for item in the list:\n",
    "        if item is even:\n",
    "        if item > largest: update largest\n",
    "        if item < smallest update smallest\n",
    "    if smallest != 0    \n",
    "       calculate largest/smallest\n",
    "    else: print --> error \n",
    "    "
   ]
  },
  {
   "cell_type": "code",
   "execution_count": 28,
   "id": "243f630b",
   "metadata": {},
   "outputs": [
    {
     "name": "stdout",
     "output_type": "stream",
     "text": [
      "102 22\n"
     ]
    }
   ],
   "source": [
    "largest = -10000\n",
    "smallest = 10000\n",
    "for item in number_list_1:\n",
    "    if item%2 == 0:\n",
    "        if item > largest: largest = item\n",
    "        if item < smallest: smallest = item\n",
    "print(largest, smallest)"
   ]
  },
  {
   "cell_type": "code",
   "execution_count": 29,
   "id": "8601b55c",
   "metadata": {},
   "outputs": [
    {
     "name": "stdout",
     "output_type": "stream",
     "text": [
      "102 0\n"
     ]
    }
   ],
   "source": [
    "largest = -10000\n",
    "smallest = 10000\n",
    "for item in number_list_2:\n",
    "    if item%2 == 0:\n",
    "        if item > largest: largest = item\n",
    "        if item < smallest: smallest = item\n",
    "print(largest, smallest)"
   ]
  },
  {
   "cell_type": "code",
   "execution_count": null,
   "id": "03145b24",
   "metadata": {},
   "outputs": [],
   "source": []
  },
  {
   "cell_type": "code",
   "execution_count": null,
   "id": "15398524",
   "metadata": {},
   "outputs": [],
   "source": []
  },
  {
   "cell_type": "markdown",
   "id": "69050449",
   "metadata": {},
   "source": [
    "### **8.** Given two integers `x` and `y` from user input, find the Least Common Multiple (LCM) of `x` and `y`\n",
    "#### LCM is the smallest positive number that can be divisible by both `x` and `y`\n",
    "    For example, \n",
    "        LCM (2, 3) = 6\n",
    "        \n",
    "        LCM (5, 10) = 10\n",
    "        \n",
    "        LCM (4, 6) = 12\n",
    "    \n",
    "    "
   ]
  },
  {
   "cell_type": "markdown",
   "id": "17698efe",
   "metadata": {},
   "source": [
    "    "
   ]
  },
  {
   "cell_type": "code",
   "execution_count": 30,
   "id": "d91ef57b",
   "metadata": {},
   "outputs": [
    {
     "name": "stdout",
     "output_type": "stream",
     "text": [
      "Please enter the first positive number:4\n",
      "Please enter the second positive number:6\n"
     ]
    }
   ],
   "source": [
    "x = int(input('Please enter the first positive number:'))\n",
    "y = int(input('Please enter the second positive number:'))"
   ]
  },
  {
   "cell_type": "code",
   "execution_count": 31,
   "id": "788547c4",
   "metadata": {},
   "outputs": [
    {
     "name": "stdout",
     "output_type": "stream",
     "text": [
      "12\n"
     ]
    }
   ],
   "source": [
    "lcm = 1\n",
    "while(True):\n",
    "    if (lcm%x == 0) and (lcm%y == 0):\n",
    "        break\n",
    "    lcm = lcm + 1\n",
    "print(lcm)"
   ]
  },
  {
   "cell_type": "code",
   "execution_count": null,
   "id": "fc2a3555",
   "metadata": {},
   "outputs": [],
   "source": []
  },
  {
   "cell_type": "code",
   "execution_count": null,
   "id": "2d476f4f",
   "metadata": {},
   "outputs": [],
   "source": []
  },
  {
   "cell_type": "code",
   "execution_count": null,
   "id": "03009fe9",
   "metadata": {},
   "outputs": [],
   "source": []
  },
  {
   "cell_type": "code",
   "execution_count": null,
   "id": "52c5ea61",
   "metadata": {},
   "outputs": [],
   "source": []
  },
  {
   "cell_type": "markdown",
   "id": "e8582b88",
   "metadata": {},
   "source": [
    "## Nested For Loop Exercise"
   ]
  },
  {
   "cell_type": "markdown",
   "id": "bcba008b",
   "metadata": {},
   "source": [
    "### **9.** Write a nested `for` loop to print the following pattern"
   ]
  },
  {
   "cell_type": "markdown",
   "id": "2d58eccc",
   "metadata": {},
   "source": [
    "    * * * * * * \n",
    "    * * * * * *\n",
    "    * * * * * *"
   ]
  },
  {
   "cell_type": "markdown",
   "id": "35520b03",
   "metadata": {},
   "source": [
    "    "
   ]
  },
  {
   "cell_type": "code",
   "execution_count": 33,
   "id": "ffe2d5e8",
   "metadata": {},
   "outputs": [
    {
     "name": "stdout",
     "output_type": "stream",
     "text": [
      "* * * * * * \n",
      "\n",
      "* * * * * * \n",
      "\n",
      "* * * * * * \n",
      "\n"
     ]
    }
   ],
   "source": [
    "for i in range(3):\n",
    "    for j in range(6):\n",
    "        print('*', end=' ')\n",
    "    print('\\n')"
   ]
  },
  {
   "cell_type": "code",
   "execution_count": null,
   "id": "ce514118",
   "metadata": {},
   "outputs": [],
   "source": []
  },
  {
   "cell_type": "code",
   "execution_count": null,
   "id": "3fe16c52",
   "metadata": {},
   "outputs": [],
   "source": []
  },
  {
   "cell_type": "markdown",
   "id": "30042054",
   "metadata": {},
   "source": [
    "### **10.** Write a nested `for` loop to print a mulitplication table (`10 * 10`)"
   ]
  },
  {
   "cell_type": "markdown",
   "id": "b2566825",
   "metadata": {},
   "source": [
    "    1 2 3 4 5 6 7 8 9 10\n",
    "    2 4 6 8 10 12 14 16 18 20\n",
    "    ......\n",
    "    10 20 30 40 ...... 100"
   ]
  },
  {
   "cell_type": "markdown",
   "id": "418de07f",
   "metadata": {},
   "source": [
    "   \n",
    "    "
   ]
  },
  {
   "cell_type": "code",
   "execution_count": 35,
   "id": "9d5956f2",
   "metadata": {},
   "outputs": [
    {
     "name": "stdout",
     "output_type": "stream",
     "text": [
      "1 2 3 4 5 6 7 8 9 10 \n",
      "\n",
      "2 4 6 8 10 12 14 16 18 20 \n",
      "\n",
      "3 6 9 12 15 18 21 24 27 30 \n",
      "\n",
      "4 8 12 16 20 24 28 32 36 40 \n",
      "\n",
      "5 10 15 20 25 30 35 40 45 50 \n",
      "\n",
      "6 12 18 24 30 36 42 48 54 60 \n",
      "\n",
      "7 14 21 28 35 42 49 56 63 70 \n",
      "\n",
      "8 16 24 32 40 48 56 64 72 80 \n",
      "\n",
      "9 18 27 36 45 54 63 72 81 90 \n",
      "\n",
      "10 20 30 40 50 60 70 80 90 100 \n",
      "\n"
     ]
    }
   ],
   "source": [
    "for i in range(1,11):\n",
    "    for j in range(1,11):\n",
    "        print(i*j, end = ' ')\n",
    "    print('\\n')"
   ]
  },
  {
   "cell_type": "code",
   "execution_count": null,
   "id": "3257cd2d",
   "metadata": {},
   "outputs": [],
   "source": []
  },
  {
   "cell_type": "markdown",
   "id": "f83099e1",
   "metadata": {},
   "source": [
    "### **11.** Print the following pattern with nested `for` loop"
   ]
  },
  {
   "cell_type": "markdown",
   "id": "6273af8a",
   "metadata": {},
   "source": [
    "    1\n",
    "    2 2 \n",
    "    3 3 3 \n",
    "    4 4 4 4\n",
    "    5 5 5 5 5"
   ]
  },
  {
   "cell_type": "code",
   "execution_count": 68,
   "id": "569a22d8",
   "metadata": {},
   "outputs": [
    {
     "name": "stdout",
     "output_type": "stream",
     "text": [
      "1 \n",
      "2 2 \n",
      "3 3 3 \n",
      "4 4 4 4 \n",
      "5 5 5 5 5 \n"
     ]
    }
   ],
   "source": [
    "for i in range(1, 6):\n",
    "    for j in range(i):\n",
    "        print(i, end = ' ')\n",
    "    print()\n",
    "    "
   ]
  },
  {
   "cell_type": "code",
   "execution_count": null,
   "id": "ac47dbeb",
   "metadata": {},
   "outputs": [],
   "source": []
  },
  {
   "cell_type": "markdown",
   "id": "1d7cd2bf",
   "metadata": {},
   "source": [
    "### **12.** Calculate the average lenght of the movie title given the movie list"
   ]
  },
  {
   "cell_type": "code",
   "execution_count": 40,
   "id": "2d9bb1a8",
   "metadata": {},
   "outputs": [],
   "source": [
    "movie_data = ['All quite on the western front', 'Duck soup', 'The godfather', 'The shawshank redemption', 'Fight club', 'Transformers']"
   ]
  },
  {
   "cell_type": "code",
   "execution_count": 41,
   "id": "663d590f",
   "metadata": {},
   "outputs": [
    {
     "data": {
      "text/plain": [
       "['All quite on the western front',\n",
       " 'Duck soup',\n",
       " 'The godfather',\n",
       " 'The shawshank redemption',\n",
       " 'Fight club',\n",
       " 'Transformers']"
      ]
     },
     "execution_count": 41,
     "metadata": {},
     "output_type": "execute_result"
    }
   ],
   "source": [
    "movie_data"
   ]
  },
  {
   "cell_type": "code",
   "execution_count": 44,
   "id": "8958591b",
   "metadata": {},
   "outputs": [
    {
     "name": "stdout",
     "output_type": "stream",
     "text": [
      "['All', 'quite', 'on', 'the', 'western', 'front']\n",
      "['Duck', 'soup']\n",
      "['The', 'godfather']\n",
      "['The', 'shawshank', 'redemption']\n",
      "['Fight', 'club']\n",
      "['Transformers']\n",
      "16\n",
      "2.6666666666666665\n"
     ]
    }
   ],
   "source": [
    "total_title_length = 0\n",
    "for movie in movie_data:\n",
    "    print(movie.split())\n",
    "    word_list = len(movie.split())\n",
    "# print(word_list)\n",
    "    total_title_length += word_list\n",
    "print(total_title_length)\n",
    "print(total_title_length/len(movie_data))"
   ]
  },
  {
   "cell_type": "code",
   "execution_count": null,
   "id": "6fae2638",
   "metadata": {},
   "outputs": [],
   "source": []
  },
  {
   "cell_type": "markdown",
   "id": "f5947271",
   "metadata": {},
   "source": [
    "### **13.** Calculate the average lenght of chars for every words in the given movie list"
   ]
  },
  {
   "cell_type": "code",
   "execution_count": 46,
   "id": "39661343",
   "metadata": {},
   "outputs": [
    {
     "name": "stdout",
     "output_type": "stream",
     "text": [
      "['All', 'quite', 'on', 'the', 'western', 'front']\n",
      "All 3\n",
      "All 1 3\n",
      "quite 5\n",
      "quite 2 8\n",
      "on 2\n",
      "on 3 10\n",
      "the 3\n",
      "the 4 13\n",
      "western 7\n",
      "western 5 20\n",
      "front 5\n",
      "front 6 25\n",
      "['Duck', 'soup']\n",
      "Duck 4\n",
      "Duck 7 29\n",
      "soup 4\n",
      "soup 8 33\n",
      "['The', 'godfather']\n",
      "The 3\n",
      "The 9 36\n",
      "godfather 9\n",
      "godfather 10 45\n",
      "['The', 'shawshank', 'redemption']\n",
      "The 3\n",
      "The 11 48\n",
      "shawshank 9\n",
      "shawshank 12 57\n",
      "redemption 10\n",
      "redemption 13 67\n",
      "['Fight', 'club']\n",
      "Fight 5\n",
      "Fight 14 72\n",
      "club 4\n",
      "club 15 76\n",
      "['Transformers']\n",
      "Transformers 12\n",
      "Transformers 16 88\n",
      "average:  5.5\n"
     ]
    }
   ],
   "source": [
    "total_word = 0\n",
    "total_char = 0\n",
    "for movie in movie_data:\n",
    "    word_list = movie.split()\n",
    "    print(word_list)\n",
    "    for word in word_list:\n",
    "        print(word, len(word))\n",
    "        total_word += 1\n",
    "        total_char = total_char + len(word)\n",
    "        print(word, total_word, total_char)\n",
    "#print(word, len(word))\n",
    "print('average: ', total_char/total_word)"
   ]
  },
  {
   "cell_type": "code",
   "execution_count": null,
   "id": "02c94597",
   "metadata": {},
   "outputs": [],
   "source": []
  },
  {
   "cell_type": "code",
   "execution_count": null,
   "id": "7776b0e2",
   "metadata": {},
   "outputs": [],
   "source": []
  },
  {
   "cell_type": "code",
   "execution_count": null,
   "id": "29a1bfee",
   "metadata": {},
   "outputs": [],
   "source": []
  }
 ],
 "metadata": {
  "kernelspec": {
   "display_name": "Python 3 (ipykernel)",
   "language": "python",
   "name": "python3"
  },
  "language_info": {
   "codemirror_mode": {
    "name": "ipython",
    "version": 3
   },
   "file_extension": ".py",
   "mimetype": "text/x-python",
   "name": "python",
   "nbconvert_exporter": "python",
   "pygments_lexer": "ipython3",
   "version": "3.11.4"
  }
 },
 "nbformat": 4,
 "nbformat_minor": 5
}
