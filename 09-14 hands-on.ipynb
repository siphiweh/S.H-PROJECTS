{
 "cells": [
  {
   "cell_type": "markdown",
   "id": "8089b084",
   "metadata": {},
   "source": [
    "# Hands-on for the basic data types in Python (09-14)"
   ]
  },
  {
   "cell_type": "markdown",
   "id": "b10c1f40",
   "metadata": {},
   "source": [
    "**1.** Write a mathematical expression with include operations of + - * / and %.\n",
    "\n",
    "For instance, (50 + 20 - (10 * 5)/20)%3"
   ]
  },
  {
   "cell_type": "code",
   "execution_count": 1,
   "id": "d71e3c83",
   "metadata": {},
   "outputs": [],
   "source": [
    "# write your code here"
   ]
  },
  {
   "cell_type": "markdown",
   "id": "653e2c4e",
   "metadata": {},
   "source": [
    "**2.** Generate a variable named \"name\", and assign your name (as string) to this variable name\n",
    "\n",
    "For instance, name = Xichen"
   ]
  },
  {
   "cell_type": "code",
   "execution_count": 2,
   "id": "99d8dbda",
   "metadata": {},
   "outputs": [],
   "source": [
    "# write your code here"
   ]
  },
  {
   "cell_type": "markdown",
   "id": "464705c4",
   "metadata": {},
   "source": [
    "**3.** Generate a new string variable called \"str1\" and assign \"Hello World\" to this new variable\n",
    "\n",
    "    1. return the letter \"e\" from \"str1\"\n",
    "    \n",
    "    2. return the last two letters \"ld\" from \"str1\"\n",
    "    \n",
    "    3. reverse \"str1\" and print the reversed result out\n",
    "    \n",
    "    4. change all the letters to upper case in \"str1\"\n",
    "    \n",
    "    5. find the index of \"d\" in this string variable "
   ]
  },
  {
   "cell_type": "code",
   "execution_count": 3,
   "id": "9ba78fb1",
   "metadata": {},
   "outputs": [],
   "source": [
    "# write your code here"
   ]
  },
  {
   "cell_type": "markdown",
   "id": "8b73eb2f",
   "metadata": {},
   "source": [
    "**4.** Generate two lists of strings as follows:\n",
    "\n",
    " list1: includes \"apple\", \"banana\", \"kiwi\"\n",
    " \n",
    " list2: includes \"person\", \"cat\", \"dog\"\n",
    " \n",
    "     1. return a new list called list3 by concatenating list1 and list 2\n",
    " \n",
    "     2. add a new item in list3 with value [\"house\", \"sofa\", \"table\"]\n",
    " \n",
    "     3. return the length of list3\n",
    " \n",
    "     4. remove the last item from list3\n",
    " \n",
    "     5. sort list3 by alphabic order\n",
    " \n",
    "     6. return \"sofa\" from list3\n",
    " "
   ]
  },
  {
   "cell_type": "code",
   "execution_count": 4,
   "id": "70108f2b",
   "metadata": {},
   "outputs": [],
   "source": [
    "# write your code here"
   ]
  },
  {
   "cell_type": "markdown",
   "id": "a783e634",
   "metadata": {},
   "source": [
    "**5.** Generate an empty dictionary called \"price_dict\"\n",
    "\n",
    "    1. Add the following key:value pairs:\n",
    "        'apple':1.99\n",
    "        'banana': 0.99\n",
    "        'milk': 3.99\n",
    "        'eggs': 12.99\n",
    "    2. get all the keys from \"price_dict\"\n",
    "    3. get all the values from \"price_dict\"\n",
    "    4. generate another dictionary called \"close_dict\" with the following key:value pairs:\n",
    "        \"clo1\": 150\n",
    "        \"clo2\": 230\n",
    "        \"clo3\":300\n",
    "    5. add \"close_dict\" to \"price_dict\", with \"close\" as the key and the key:value pairs in \"close_dict\" as the value\n",
    "    6. return the value of \"clo3\""
   ]
  },
  {
   "cell_type": "code",
   "execution_count": 5,
   "id": "7a9b60b5",
   "metadata": {},
   "outputs": [],
   "source": [
    "# write your code here"
   ]
  },
  {
   "cell_type": "markdown",
   "id": "aeadd05d",
   "metadata": {},
   "source": []
  },
  {
   "cell_type": "code",
   "execution_count": null,
   "id": "119701b9",
   "metadata": {},
   "outputs": [],
   "source": []
  },
  {
   "cell_type": "code",
   "execution_count": null,
   "id": "a7bfb693",
   "metadata": {},
   "outputs": [],
   "source": []
  }
 ],
 "metadata": {
  "kernelspec": {
   "display_name": "Python 3 (ipykernel)",
   "language": "python",
   "name": "python3"
  },
  "language_info": {
   "codemirror_mode": {
    "name": "ipython",
    "version": 3
   },
   "file_extension": ".py",
   "mimetype": "text/x-python",
   "name": "python",
   "nbconvert_exporter": "python",
   "pygments_lexer": "ipython3",
   "version": "3.11.4"
  }
 },
 "nbformat": 4,
 "nbformat_minor": 5
}

