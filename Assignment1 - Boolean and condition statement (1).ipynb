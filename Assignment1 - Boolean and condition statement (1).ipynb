{
 "cells": [
  {
   "cell_type": "markdown",
   "id": "8379431d",
   "metadata": {},
   "source": [
    "# Assignment 1: the flow control and statement in Python (09-28)"
   ]
  },
  {
   "cell_type": "markdown",
   "id": "b028a61d",
   "metadata": {},
   "source": [
    "## **1.** Write a Python code to find all the numbers from the range [1000, 2000], which can be divisible by  5 and is mutiples of 3 at the same time. Use the `if` and `for` statement and the `and` operation. Put the results into a integer list."
   ]
  },
  {
   "cell_type": "code",
   "execution_count": 2,
   "id": "0a05d9fd",
   "metadata": {
    "scrolled": true
   },
   "outputs": [
    {
     "name": "stdout",
     "output_type": "stream",
     "text": [
      "1005\n",
      "1020\n",
      "1035\n",
      "1050\n",
      "1065\n",
      "1080\n",
      "1095\n",
      "1110\n",
      "1125\n",
      "1140\n",
      "1155\n",
      "1170\n",
      "1185\n",
      "1200\n",
      "1215\n",
      "1230\n",
      "1245\n",
      "1260\n",
      "1275\n",
      "1290\n",
      "1305\n",
      "1320\n",
      "1335\n",
      "1350\n",
      "1365\n",
      "1380\n",
      "1395\n",
      "1410\n",
      "1425\n",
      "1440\n",
      "1455\n",
      "1470\n",
      "1485\n",
      "1500\n",
      "1515\n",
      "1530\n",
      "1545\n",
      "1560\n",
      "1575\n",
      "1590\n",
      "1605\n",
      "1620\n",
      "1635\n",
      "1650\n",
      "1665\n",
      "1680\n",
      "1695\n",
      "1710\n",
      "1725\n",
      "1740\n",
      "1755\n",
      "1770\n",
      "1785\n",
      "1800\n",
      "1815\n",
      "1830\n",
      "1845\n",
      "1860\n",
      "1875\n",
      "1890\n",
      "1905\n",
      "1920\n",
      "1935\n",
      "1950\n",
      "1965\n",
      "1980\n",
      "1995\n"
     ]
    }
   ],
   "source": [
    "number_list = []\n",
    "for i in range(1000,2001):\n",
    "    if i%5 == 0 and i%3 == 0:\n",
    "        number_list.append(i)\n",
    "for interger in number_list:\n",
    "    print(interger)\n"
   ]
  },
  {
   "cell_type": "markdown",
   "id": "5378514c",
   "metadata": {},
   "source": [
    "## **2.** Write a Python code to find all the numbers from the range [1000, 2000], which can be divisible by  7 or can be divisible by 13. Use the `if` and `for` statement and the `and` operation. Put the results into a integer list."
   ]
  },
  {
   "cell_type": "code",
   "execution_count": 3,
   "id": "44de8cb9",
   "metadata": {},
   "outputs": [
    {
     "name": "stdout",
     "output_type": "stream",
     "text": [
      "1001\n",
      "1008\n",
      "1014\n",
      "1015\n",
      "1022\n",
      "1027\n",
      "1029\n",
      "1036\n",
      "1040\n",
      "1043\n",
      "1050\n",
      "1053\n",
      "1057\n",
      "1064\n",
      "1066\n",
      "1071\n",
      "1078\n",
      "1079\n",
      "1085\n",
      "1092\n",
      "1099\n",
      "1105\n",
      "1106\n",
      "1113\n",
      "1118\n",
      "1120\n",
      "1127\n",
      "1131\n",
      "1134\n",
      "1141\n",
      "1144\n",
      "1148\n",
      "1155\n",
      "1157\n",
      "1162\n",
      "1169\n",
      "1170\n",
      "1176\n",
      "1183\n",
      "1190\n",
      "1196\n",
      "1197\n",
      "1204\n",
      "1209\n",
      "1211\n",
      "1218\n",
      "1222\n",
      "1225\n",
      "1232\n",
      "1235\n",
      "1239\n",
      "1246\n",
      "1248\n",
      "1253\n",
      "1260\n",
      "1261\n",
      "1267\n",
      "1274\n",
      "1281\n",
      "1287\n",
      "1288\n",
      "1295\n",
      "1300\n",
      "1302\n",
      "1309\n",
      "1313\n",
      "1316\n",
      "1323\n",
      "1326\n",
      "1330\n",
      "1337\n",
      "1339\n",
      "1344\n",
      "1351\n",
      "1352\n",
      "1358\n",
      "1365\n",
      "1372\n",
      "1378\n",
      "1379\n",
      "1386\n",
      "1391\n",
      "1393\n",
      "1400\n",
      "1404\n",
      "1407\n",
      "1414\n",
      "1417\n",
      "1421\n",
      "1428\n",
      "1430\n",
      "1435\n",
      "1442\n",
      "1443\n",
      "1449\n",
      "1456\n",
      "1463\n",
      "1469\n",
      "1470\n",
      "1477\n",
      "1482\n",
      "1484\n",
      "1491\n",
      "1495\n",
      "1498\n",
      "1505\n",
      "1508\n",
      "1512\n",
      "1519\n",
      "1521\n",
      "1526\n",
      "1533\n",
      "1534\n",
      "1540\n",
      "1547\n",
      "1554\n",
      "1560\n",
      "1561\n",
      "1568\n",
      "1573\n",
      "1575\n",
      "1582\n",
      "1586\n",
      "1589\n",
      "1596\n",
      "1599\n",
      "1603\n",
      "1610\n",
      "1612\n",
      "1617\n",
      "1624\n",
      "1625\n",
      "1631\n",
      "1638\n",
      "1645\n",
      "1651\n",
      "1652\n",
      "1659\n",
      "1664\n",
      "1666\n",
      "1673\n",
      "1677\n",
      "1680\n",
      "1687\n",
      "1690\n",
      "1694\n",
      "1701\n",
      "1703\n",
      "1708\n",
      "1715\n",
      "1716\n",
      "1722\n",
      "1729\n",
      "1736\n",
      "1742\n",
      "1743\n",
      "1750\n",
      "1755\n",
      "1757\n",
      "1764\n",
      "1768\n",
      "1771\n",
      "1778\n",
      "1781\n",
      "1785\n",
      "1792\n",
      "1794\n",
      "1799\n",
      "1806\n",
      "1807\n",
      "1813\n",
      "1820\n",
      "1827\n",
      "1833\n",
      "1834\n",
      "1841\n",
      "1846\n",
      "1848\n",
      "1855\n",
      "1859\n",
      "1862\n",
      "1869\n",
      "1872\n",
      "1876\n",
      "1883\n",
      "1885\n",
      "1890\n",
      "1897\n",
      "1898\n",
      "1904\n",
      "1911\n",
      "1918\n",
      "1924\n",
      "1925\n",
      "1932\n",
      "1937\n",
      "1939\n",
      "1946\n",
      "1950\n",
      "1953\n",
      "1960\n",
      "1963\n",
      "1967\n",
      "1974\n",
      "1976\n",
      "1981\n",
      "1988\n",
      "1989\n",
      "1995\n"
     ]
    }
   ],
   "source": [
    "number_list = []\n",
    "for i in range(1000,2001):\n",
    "    if i%7 == 0 or i%13 == 0:\n",
    "        number_list.append(i)\n",
    "for interger in number_list:\n",
    "    print(interger)"
   ]
  },
  {
   "cell_type": "markdown",
   "id": "939925f1",
   "metadata": {},
   "source": [
    "## 3. Write a Python code to ask user to input 5 integer inputs using the `input()` function and `for` loop, and the store all the 5 integers into a interger list. Print the final integer list.\n",
    "     Generate an empty list\n",
    "     user_input: ask user to input a number:\n",
    "     append user_input into  an interger list"
   ]
  },
  {
   "cell_type": "code",
   "execution_count": 39,
   "id": "2cb4a1dc",
   "metadata": {},
   "outputs": [
    {
     "name": "stdout",
     "output_type": "stream",
     "text": [
      "Please enter in integer here: 2\n",
      "Please enter in integer here: 4\n",
      "Please enter in integer here: 6\n",
      "Please enter in integer here: 8\n",
      "Please enter in integer here: 10\n"
     ]
    }
   ],
   "source": [
    "number_list = []\n",
    "for i in range(5):\n",
    "    x = int(input('Please enter in integer here: '))\n",
    "    number_list.append(x)   "
   ]
  },
  {
   "cell_type": "code",
   "execution_count": 40,
   "id": "4b2cbd8b",
   "metadata": {},
   "outputs": [
    {
     "data": {
      "text/plain": [
       "[2, 4, 6, 8, 10]"
      ]
     },
     "execution_count": 40,
     "metadata": {},
     "output_type": "execute_result"
    }
   ],
   "source": [
    "number_list"
   ]
  },
  {
   "cell_type": "markdown",
   "id": "6095a979",
   "metadata": {},
   "source": [
    "## **4.** Write a Python code with for loop to find the smallest number in a given set below. Print the smallest number\n",
    "      define smallest number\n",
    "      smallest = very small number\n",
    "      for item in the list:\n",
    "          if item < smallest update smallest\n",
    "      if smallest != 0\n",
    "         calculate smallest\n",
    "     print smallest\n",
    "      "
   ]
  },
  {
   "cell_type": "code",
   "execution_count": 10,
   "id": "4a752779",
   "metadata": {},
   "outputs": [],
   "source": [
    "number_list = [13, 22, 5, 17, 21, 36, 99, 101, 6]"
   ]
  },
  {
   "cell_type": "code",
   "execution_count": 13,
   "id": "5fded618",
   "metadata": {},
   "outputs": [
    {
     "name": "stdout",
     "output_type": "stream",
     "text": [
      "5\n"
     ]
    }
   ],
   "source": [
    "for item in number_list:\n",
    "    if item%1 == 0:\n",
    "        if item < smallest: smallest = item\n",
    "print(smallest)"
   ]
  },
  {
   "cell_type": "code",
   "execution_count": null,
   "id": "24c6f254",
   "metadata": {},
   "outputs": [],
   "source": []
  },
  {
   "cell_type": "markdown",
   "id": "b323a38c",
   "metadata": {},
   "source": [
    "## **5.** Write a Python code with for loop to find the average of all the even numbers in a given list. Print the final result.\n",
    "\n",
    "### Try your code in both of the two number lists below and find a way to handle any possible errors"
   ]
  },
  {
   "cell_type": "code",
   "execution_count": 59,
   "id": "3e906460",
   "metadata": {},
   "outputs": [
    {
     "name": "stdout",
     "output_type": "stream",
     "text": [
      "21.333333333333332\n"
     ]
    }
   ],
   "source": [
    "number_list = [13, 22, 5, 17, 21, 36, 99, 101, 6]\n",
    "\n",
    "\n",
    "# find the average of all the even numbers in the given list with for loop (e.g., result = (22 + 36 + 6)/3)\n",
    "\n",
    "# Try your codes in both number_list and number_list_1\n",
    "\n",
    "# write your code here\n",
    "\n",
    "even_numbers = []\n",
    "for i in number_list:\n",
    "    if i % 2 == 0:\n",
    "        even_numbers.append(i)\n",
    "        \n",
    "avg_even_numbers = sum(even_numbers)/len(even_numbers)\n",
    "print(avg_even_numbers)"
   ]
  },
  {
   "cell_type": "code",
   "execution_count": 67,
   "id": "e66f76fa",
   "metadata": {},
   "outputs": [
    {
     "ename": "NameError",
     "evalue": "name 'numbers_list_1' is not defined",
     "output_type": "error",
     "traceback": [
      "\u001b[1;31m---------------------------------------------------------------------------\u001b[0m",
      "\u001b[1;31mNameError\u001b[0m                                 Traceback (most recent call last)",
      "Cell \u001b[1;32mIn[67], line 4\u001b[0m\n\u001b[0;32m      1\u001b[0m number_list_1 \u001b[38;5;241m=\u001b[39m [\u001b[38;5;241m13\u001b[39m, \u001b[38;5;241m15\u001b[39m, \u001b[38;5;241m17\u001b[39m, \u001b[38;5;241m21\u001b[39m, \u001b[38;5;241m33\u001b[39m, \u001b[38;5;241m29\u001b[39m, \u001b[38;5;241m5\u001b[39m]\n\u001b[0;32m      3\u001b[0m even_numbers_1 \u001b[38;5;241m=\u001b[39m []\n\u001b[1;32m----> 4\u001b[0m \u001b[38;5;28;01mfor\u001b[39;00m i \u001b[38;5;129;01min\u001b[39;00m numbers_list_1:\n\u001b[0;32m      5\u001b[0m     \u001b[38;5;28;01mif\u001b[39;00m i \u001b[38;5;241m%\u001b[39m \u001b[38;5;241m2\u001b[39m \u001b[38;5;241m==\u001b[39m \u001b[38;5;241m0\u001b[39m:\n\u001b[0;32m      6\u001b[0m         even_numbers_1\u001b[38;5;241m.\u001b[39mappend(i)\n",
      "\u001b[1;31mNameError\u001b[0m: name 'numbers_list_1' is not defined"
     ]
    }
   ],
   "source": [
    "number_list_1 = [13, 15, 17, 21, 33, 29, 5]\n",
    "\n",
    "even_numbers_1 = []\n",
    "for i in numbers_list_1:\n",
    "    if i % 2 == 0:\n",
    "        even_numbers_1.append(i)\n",
    "        \n",
    "avg_even_numbers_1 = sum(even_numbers_1)/len(even_numbers_1)\n",
    "\n",
    "print(avg_even_numbers_1)"
   ]
  },
  {
   "cell_type": "code",
   "execution_count": 64,
   "id": "66752d61",
   "metadata": {},
   "outputs": [],
   "source": [
    "number_list_1 = [13, 15, 17, 21, 33, 29, 5]\n",
    "\n",
    "even_numbers_1 = []\n",
    "for i in number_list_1:\n",
    "    if i % 2 == 0:\n",
    "        even_numbers_1.append(i)\n",
    "    else:\n",
    "        even_numbers_1.append(0)"
   ]
  },
  {
   "cell_type": "code",
   "execution_count": 65,
   "id": "19fa504e",
   "metadata": {},
   "outputs": [
    {
     "data": {
      "text/plain": [
       "[0, 0, 0, 0, 0, 0, 0]"
      ]
     },
     "execution_count": 65,
     "metadata": {},
     "output_type": "execute_result"
    }
   ],
   "source": [
    "even_numbers_1"
   ]
  },
  {
   "cell_type": "markdown",
   "id": "7b18299d",
   "metadata": {},
   "source": [
    "## **6.** Write a Python program to receive two integers from user input using the `input()` function, and then calculate the sum of these two integers. If the sum is larger than 100, then return 100. Otherwise, return the original value. \n",
    "\n",
    "### Try to test the accuracy of your code with different scenarios."
   ]
  },
  {
   "cell_type": "code",
   "execution_count": 32,
   "id": "3335e4fe",
   "metadata": {},
   "outputs": [
    {
     "name": "stdout",
     "output_type": "stream",
     "text": [
      "Please enter an integer here: 50\n",
      "Please enter an integer here: 35\n"
     ]
    }
   ],
   "source": [
    "# less than 100\n",
    "\n",
    "result_list = []\n",
    "for i in range(2):\n",
    "    x = int(input('Please enter an integer here: '))\n",
    "    result_list.append(x)\n"
   ]
  },
  {
   "cell_type": "code",
   "execution_count": 33,
   "id": "3be0af47",
   "metadata": {},
   "outputs": [
    {
     "data": {
      "text/plain": [
       "[50, 35]"
      ]
     },
     "execution_count": 33,
     "metadata": {},
     "output_type": "execute_result"
    }
   ],
   "source": [
    "result_list"
   ]
  },
  {
   "cell_type": "code",
   "execution_count": 34,
   "id": "c23c3821",
   "metadata": {},
   "outputs": [
    {
     "name": "stdout",
     "output_type": "stream",
     "text": [
      "85\n"
     ]
    }
   ],
   "source": [
    "if sum(result_list) > 100:\n",
    "    print(100)\n",
    "else:\n",
    "    print(sum(result_list))"
   ]
  },
  {
   "cell_type": "code",
   "execution_count": 35,
   "id": "8b9750cb",
   "metadata": {},
   "outputs": [
    {
     "name": "stdout",
     "output_type": "stream",
     "text": [
      "Please enter inter here: 80\n",
      "Please enter inter here: 50\n"
     ]
    }
   ],
   "source": [
    "# more than 100\n",
    "result_list = []\n",
    "for i in range(2):\n",
    "    x = int(input('Please enter inter here: '))\n",
    "    result_list.append(x)"
   ]
  },
  {
   "cell_type": "code",
   "execution_count": 36,
   "id": "71135fc6",
   "metadata": {},
   "outputs": [
    {
     "data": {
      "text/plain": [
       "[80, 50]"
      ]
     },
     "execution_count": 36,
     "metadata": {},
     "output_type": "execute_result"
    }
   ],
   "source": [
    "result_list"
   ]
  },
  {
   "cell_type": "code",
   "execution_count": 37,
   "id": "20f59af1",
   "metadata": {},
   "outputs": [
    {
     "name": "stdout",
     "output_type": "stream",
     "text": [
      "100\n"
     ]
    }
   ],
   "source": [
    "if sum(result_list) > 100:\n",
    "    print(100)\n",
    "else:\n",
    "    print(sum(result_list))"
   ]
  },
  {
   "cell_type": "markdown",
   "id": "e03faa34",
   "metadata": {},
   "source": [
    "## **7.** Write a Python program to print the following patterns with nested for loop.\n",
    "#### *\n",
    "#### **\n",
    "#### ***\n",
    "#### ****\n",
    "#### *****\n",
    "\n"
   ]
  },
  {
   "cell_type": "code",
   "execution_count": 17,
   "id": "a9eee058",
   "metadata": {},
   "outputs": [
    {
     "name": "stdout",
     "output_type": "stream",
     "text": [
      "* \n",
      "\n",
      "* * \n",
      "\n",
      "* * * \n",
      "\n",
      "* * * * \n",
      "\n",
      "* * * * * \n",
      "\n"
     ]
    }
   ],
   "source": [
    "for i in range(1,6):\n",
    "    for j in range(i):\n",
    "        print('*', end = ' ')\n",
    "    print('\\n')"
   ]
  },
  {
   "cell_type": "code",
   "execution_count": null,
   "id": "b4127082",
   "metadata": {},
   "outputs": [],
   "source": []
  },
  {
   "cell_type": "markdown",
   "id": "19ec4238",
   "metadata": {},
   "source": [
    "## **8.** Write a Python code to print the following number matrix with nested for loop.\n",
    "\n",
    "#### 1 2 3 4 5\n",
    "#### 6 7 8 9 10\n",
    "#### 11 12 13 14 15\n",
    "#### 16 17 18 19 20\n",
    "#### 21 22 23 24 25\n",
    "     define number of rows and cols in the matrix\n",
    "     input a variable to keep tabs with current number\n",
    "     iterate through rows\n",
    "     iterate through cols\n",
    "     print current number"
   ]
  },
  {
   "cell_type": "code",
   "execution_count": 21,
   "id": "f02ff599",
   "metadata": {},
   "outputs": [
    {
     "name": "stdout",
     "output_type": "stream",
     "text": [
      "1 2 3 4 5 \n",
      "6 7 8 9 10 \n",
      "11 12 13 14 15 \n",
      "16 17 18 19 20 \n",
      "21 22 23 24 25 \n"
     ]
    }
   ],
   "source": [
    "num_rows = 5\n",
    "num_cols = 5\n",
    "current_num = 1\n",
    "for i in range(num_rows):\n",
    "    for j in range(num_cols):\n",
    "        print(current_num, end= ' ')\n",
    "        current_num += 1\n",
    "    print()"
   ]
  },
  {
   "cell_type": "markdown",
   "id": "4612b789",
   "metadata": {},
   "source": [
    "## **9.** Given the following two number lists `num_list_a` and `num_list_b`, print the pair multiplication of all the possible combinations if the item from the first list is not equal to the item from the second list, using nested `for` loop.\n",
    "\n",
    "### For instance, the sample output should like:\n",
    "### 1*3 = 3\n",
    "### 1*6 = 6\n",
    "### 1*11 = 11\n",
    "### ......\n",
    "### a*b = c (as long as a != b)\n",
    "### ......"
   ]
  },
  {
   "cell_type": "code",
   "execution_count": 29,
   "id": "99eb55a0",
   "metadata": {},
   "outputs": [],
   "source": [
    "num_list_a = [1, 3, 6, 8, 9, 12]\n",
    "\n",
    "num_list_b = [3, 6, 11, 12, 19, 8]"
   ]
  },
  {
   "cell_type": "code",
   "execution_count": 31,
   "id": "bc0d7429",
   "metadata": {},
   "outputs": [
    {
     "name": "stdout",
     "output_type": "stream",
     "text": [
      "1 * 3 = 3\n",
      "1 * 6 = 6\n",
      "1 * 11 = 11\n",
      "1 * 12 = 12\n",
      "1 * 19 = 19\n",
      "1 * 8 = 8\n",
      "3 * 6 = 18\n",
      "3 * 11 = 33\n",
      "3 * 12 = 36\n",
      "3 * 19 = 57\n",
      "3 * 8 = 24\n",
      "6 * 3 = 18\n",
      "6 * 11 = 66\n",
      "6 * 12 = 72\n",
      "6 * 19 = 114\n",
      "6 * 8 = 48\n",
      "8 * 3 = 24\n",
      "8 * 6 = 48\n",
      "8 * 11 = 88\n",
      "8 * 12 = 96\n",
      "8 * 19 = 152\n",
      "9 * 3 = 27\n",
      "9 * 6 = 54\n",
      "9 * 11 = 99\n",
      "9 * 12 = 108\n",
      "9 * 19 = 171\n",
      "9 * 8 = 72\n",
      "12 * 3 = 36\n",
      "12 * 6 = 72\n",
      "12 * 11 = 132\n",
      "12 * 19 = 228\n",
      "12 * 8 = 96\n"
     ]
    }
   ],
   "source": [
    "for i in num_list_a:\n",
    "    for j in num_list_b:\n",
    "        if i != j:\n",
    "            print(i, '*', j, '=', i*j)"
   ]
  },
  {
   "cell_type": "markdown",
   "id": "1771a5a8",
   "metadata": {},
   "source": [
    "## **10.** Write a Python code to get all the prime numbers in the range of `[0, 100]`. Print all the prime numbers.\n",
    "\n",
    "### Tip: how to find if a number is a prime number\n",
    "### For number `a`, check if `a` is divisible by any number between `[2, a-1]`, if yes, then `a` is not a prime number. Otherwise, `a` is a prime number."
   ]
  },
  {
   "cell_type": "code",
   "execution_count": 41,
   "id": "1eaff6f3",
   "metadata": {},
   "outputs": [],
   "source": [
    "prime_numbers = []\n",
    "\n",
    "for i in range(0, 101):\n",
    "    if i > 1 :\n",
    "        for j in range(2, i):\n",
    "            if i % j == 0:\n",
    "                break\n",
    "        else:\n",
    "            prime_numbers.append(i)"
   ]
  },
  {
   "cell_type": "code",
   "execution_count": 42,
   "id": "b5707960",
   "metadata": {},
   "outputs": [
    {
     "data": {
      "text/plain": [
       "[2,\n",
       " 3,\n",
       " 5,\n",
       " 7,\n",
       " 11,\n",
       " 13,\n",
       " 17,\n",
       " 19,\n",
       " 23,\n",
       " 29,\n",
       " 31,\n",
       " 37,\n",
       " 41,\n",
       " 43,\n",
       " 47,\n",
       " 53,\n",
       " 59,\n",
       " 61,\n",
       " 67,\n",
       " 71,\n",
       " 73,\n",
       " 79,\n",
       " 83,\n",
       " 89,\n",
       " 97]"
      ]
     },
     "execution_count": 42,
     "metadata": {},
     "output_type": "execute_result"
    }
   ],
   "source": [
    "prime_numbers"
   ]
  },
  {
   "cell_type": "code",
   "execution_count": null,
   "id": "10e8aaa4",
   "metadata": {},
   "outputs": [],
   "source": []
  },
  {
   "cell_type": "code",
   "execution_count": null,
   "id": "25436469",
   "metadata": {},
   "outputs": [],
   "source": []
  },
  {
   "cell_type": "markdown",
   "id": "a2e97f78",
   "metadata": {},
   "source": []
  },
  {
   "cell_type": "code",
   "execution_count": 27,
   "id": "dd07fee3",
   "metadata": {},
   "outputs": [],
   "source": []
  },
  {
   "cell_type": "code",
   "execution_count": 28,
   "id": "ca746282",
   "metadata": {},
   "outputs": [],
   "source": []
  },
  {
   "cell_type": "code",
   "execution_count": null,
   "id": "7b12ce2a",
   "metadata": {},
   "outputs": [],
   "source": []
  }
 ],
 "metadata": {
  "kernelspec": {
   "display_name": "Python 3 (ipykernel)",
   "language": "python",
   "name": "python3"
  },
  "language_info": {
   "codemirror_mode": {
    "name": "ipython",
    "version": 3
   },
   "file_extension": ".py",
   "mimetype": "text/x-python",
   "name": "python",
   "nbconvert_exporter": "python",
   "pygments_lexer": "ipython3",
   "version": "3.11.4"
  }
 },
 "nbformat": 4,
 "nbformat_minor": 5
}
