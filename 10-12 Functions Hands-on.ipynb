{
 "cells": [
  {
   "cell_type": "markdown",
   "id": "7d4ff8d2",
   "metadata": {},
   "source": [
    "**1.** Write a function in Python that takes in two arguments and return the product of these two values. Try different numbers to test your function"
   ]
  },
  {
   "cell_type": "code",
   "execution_count": 2,
   "id": "1a624d14",
   "metadata": {},
   "outputs": [
    {
     "name": "stdout",
     "output_type": "stream",
     "text": [
      "48\n"
     ]
    }
   ],
   "source": [
    "def multiply(a, b):\n",
    "    result = a * b\n",
    "    return result\n",
    "result = multiply(8, 6)\n",
    "print(result)\n"
   ]
  },
  {
   "cell_type": "code",
   "execution_count": 5,
   "id": "f4108925",
   "metadata": {},
   "outputs": [
    {
     "name": "stdout",
     "output_type": "stream",
     "text": [
      "1000\n"
     ]
    }
   ],
   "source": [
    "result = multiply(10, 100)\n",
    "print(result)"
   ]
  },
  {
   "cell_type": "markdown",
   "id": "9e1b3a54",
   "metadata": {},
   "source": [
    "**2.** Write a Python function to check if a input number is in a certain range ([-100, 100]) of not. Return `True` is the number is in the range, otherwise, return `False`. Use different numbers to test your results"
   ]
  },
  {
   "cell_type": "code",
   "execution_count": 6,
   "id": "c74b18ec",
   "metadata": {},
   "outputs": [],
   "source": [
    "def is_in_range(number):\n",
    "    if -100 <= number <= 100:\n",
    "        return True\n",
    "    else:\n",
    "        return False"
   ]
  },
  {
   "cell_type": "code",
   "execution_count": 8,
   "id": "f0fb1a00",
   "metadata": {},
   "outputs": [
    {
     "data": {
      "text/plain": [
       "True"
      ]
     },
     "execution_count": 8,
     "metadata": {},
     "output_type": "execute_result"
    }
   ],
   "source": [
    "is_in_range(66)"
   ]
  },
  {
   "cell_type": "code",
   "execution_count": 9,
   "id": "c0ec85ca",
   "metadata": {},
   "outputs": [
    {
     "data": {
      "text/plain": [
       "False"
      ]
     },
     "execution_count": 9,
     "metadata": {},
     "output_type": "execute_result"
    }
   ],
   "source": [
    "is_in_range(245)"
   ]
  },
  {
   "cell_type": "code",
   "execution_count": 10,
   "id": "a8011a11",
   "metadata": {},
   "outputs": [
    {
     "data": {
      "text/plain": [
       "True"
      ]
     },
     "execution_count": 10,
     "metadata": {},
     "output_type": "execute_result"
    }
   ],
   "source": [
    "is_in_range(-50)"
   ]
  },
  {
   "cell_type": "markdown",
   "id": "bbc20c1f",
   "metadata": {},
   "source": [
    "**3.** Write a function in Python, in which this function receive a input number from the user (you may consider use the `input()` function) and check if this number is odd or not. Return `True` if this number is odd, otherwise, return `False`. Use different numbers to test your results"
   ]
  },
  {
   "cell_type": "code",
   "execution_count": 17,
   "id": "3cd964c2",
   "metadata": {},
   "outputs": [
    {
     "name": "stdout",
     "output_type": "stream",
     "text": [
      "Enter a number: 16\n"
     ]
    }
   ],
   "source": [
    "def is_odd_input():\n",
    "    user_input = input('Enter a number: ')\n",
    "    number = int(user_input)\n",
    "    return number%2 == 1\n",
    "    return False\n",
    "result = is_odd_input()"
   ]
  },
  {
   "cell_type": "code",
   "execution_count": 19,
   "id": "31bb9d40",
   "metadata": {},
   "outputs": [
    {
     "name": "stdout",
     "output_type": "stream",
     "text": [
      "Enter a number: 3\n"
     ]
    },
    {
     "data": {
      "text/plain": [
       "True"
      ]
     },
     "execution_count": 19,
     "metadata": {},
     "output_type": "execute_result"
    }
   ],
   "source": [
    "is_odd_input()"
   ]
  },
  {
   "cell_type": "markdown",
   "id": "84c7fe5e",
   "metadata": {},
   "source": [
    "**4.** Write a function in Python, in which this function receive a random number list (e.g., [1, 9, 16, 31, ....]) and check if any number in this list is mutiple of 3 (e.g, 3, 6, 9, 12, 15, 18, 21, ....). This function should add such number in a new list, and then return this new list. "
   ]
  },
  {
   "cell_type": "code",
   "execution_count": 26,
   "id": "675f8b84",
   "metadata": {},
   "outputs": [],
   "source": [
    "num_list = [1, 9, 16, 31, 5, 7, 12, 18, 22, 21]"
   ]
  },
  {
   "cell_type": "code",
   "execution_count": 34,
   "id": "e655fc14",
   "metadata": {},
   "outputs": [],
   "source": [
    "def find_multiples_of_3():\n",
    "    multiples_of_3 = []\n",
    "    for number in num_list:\n",
    "        if number % 3 == 0:\n",
    "            multiples_of_3.append(number)\n",
    "    return multiples_of_3\n"
   ]
  },
  {
   "cell_type": "code",
   "execution_count": 36,
   "id": "7f439c74",
   "metadata": {},
   "outputs": [
    {
     "data": {
      "text/plain": [
       "[9, 12, 18, 21]"
      ]
     },
     "execution_count": 36,
     "metadata": {},
     "output_type": "execute_result"
    }
   ],
   "source": [
    "find_multiples_of_3()"
   ]
  },
  {
   "cell_type": "markdown",
   "id": "a67c487f",
   "metadata": {},
   "source": [
    "**5.** Write a Python function that accepts two numbers as inputs, and returns the lesser of two given numbers if both numbers are even, but returns the greater one if one or both numbers are odd. \n",
    "\n",
    "For instance:\n",
    "\n",
    "    if given inputs are 2 and 6, then return 2\n",
    "\n",
    "    if given input are 1 and 6, then return 6\n",
    "\n",
    "    if given input are 3 and 9, then return 9\n",
    "\n",
    "Write two functions: \n",
    "\n",
    "    The first function return a tuple of (largest, smallest) given two input numbers.\n",
    "    \n",
    "    The second function return the result based on the requirement above. The second function should contain the first function\n",
    "\n",
    "\n",
    "\n",
    "Try the above different inputs to test your codes"
   ]
  },
  {
   "cell_type": "code",
   "execution_count": 18,
   "id": "9dc654ed",
   "metadata": {},
   "outputs": [],
   "source": [
    "def check_two_number(input_a, input_b):\n",
    "    # write your code here\n",
    "\n",
    "def certain_output(input_a, input_b):\n",
    "    # write your code here"
   ]
  },
  {
   "cell_type": "code",
   "execution_count": null,
   "id": "095e8612",
   "metadata": {},
   "outputs": [],
   "source": []
  },
  {
   "cell_type": "code",
   "execution_count": null,
   "id": "0e943241",
   "metadata": {},
   "outputs": [],
   "source": []
  },
  {
   "cell_type": "code",
   "execution_count": null,
   "id": "2af3e696",
   "metadata": {},
   "outputs": [],
   "source": []
  },
  {
   "cell_type": "markdown",
   "id": "6c672eb5",
   "metadata": {},
   "source": [
    "**6.** Write a Python function that takes in a string, and return the string with all the letter reversed. \n",
    "\n",
    "Tip: you can use `string[::-1]`\n",
    "\n",
    "Try different strings to test your results"
   ]
  },
  {
   "cell_type": "code",
   "execution_count": 37,
   "id": "3012bd60",
   "metadata": {},
   "outputs": [
    {
     "name": "stdout",
     "output_type": "stream",
     "text": [
      ",olleH !dlroW\n"
     ]
    }
   ],
   "source": [
    "def reverse_letters(input_string):\n",
    "    words = input_string.split()\n",
    "    reversed_words = [word[::-1] for word in words]\n",
    "    reversed_string = ' '.join(reversed_words)\n",
    "    return reversed_string\n",
    "input_string = \"Hello, World!\"\n",
    "result = reverse_letters(input_string)\n",
    "print(result)\n"
   ]
  },
  {
   "cell_type": "code",
   "execution_count": 38,
   "id": "0bb89e5f",
   "metadata": {},
   "outputs": [
    {
     "name": "stdout",
     "output_type": "stream",
     "text": [
      ",etalocohC pihc\n"
     ]
    }
   ],
   "source": [
    "input_string = 'Chocolate, chip'\n",
    "result = reverse_letters(input_string)\n",
    "print(result)"
   ]
  },
  {
   "cell_type": "code",
   "execution_count": 40,
   "id": "370de928",
   "metadata": {},
   "outputs": [
    {
     "name": "stdout",
     "output_type": "stream",
     "text": [
      "tniaS s'yraM\n"
     ]
    }
   ],
   "source": [
    "input_string = \"Saint Mary's\"\n",
    "result = reverse_letters(input_string)\n",
    "print(result)"
   ]
  },
  {
   "cell_type": "markdown",
   "id": "6b13cb52",
   "metadata": {},
   "source": [
    "**7.** Write a Python function that takes a sentence (a long string) and return a new sentence (a long string) with all the words reversed. Try different inputs to test your results.\n",
    "\n",
    "For instance, if the input sentence is `'hello world, today is a nice day'`, the output should be `'day nice a is today world, hello'`\n",
    "\n",
    "Tips: for the input sentence (long string), you can split this long string into a list of words (using `split()` function). Then, you can use the build-in `reverse()` function to reverse the list of words. At last, you can use the build-in `join()` function to convert the words into one string.\n",
    "\n",
    "When you want to use any new build-in functions that you never used before, use the `help()` function or use `tab + shift` to check instructions, or read the documentations online.\n",
    "\n",
    "Check how to use `string.split()`: https://docs.python.org/3/library/stdtypes.html\n",
    "\n",
    "Check how to use `list.reverse()`: https://docs.python.org/3/tutorial/datastructures.html\n",
    "\n",
    "Check how to use `list.join()`: https://docs.python.org/3/library/stdtypes.html"
   ]
  },
  {
   "cell_type": "code",
   "execution_count": 59,
   "id": "1253ca6c",
   "metadata": {},
   "outputs": [
    {
     "name": "stdout",
     "output_type": "stream",
     "text": [
      "day nice a is today world, hello\n"
     ]
    }
   ],
   "source": [
    "def reverse_sentence(sentence):\n",
    "    words = sentence.split()\n",
    "    words.reverse()\n",
    "    reversed_sentence = ' '.join(words)\n",
    "    return reversed_sentence\n",
    "input_sentence = 'hello world, today is a nice day'\n",
    "output_sentence = reverse_sentence(input_sentence)\n",
    "print(output_sentence)"
   ]
  },
  {
   "cell_type": "code",
   "execution_count": 72,
   "id": "0115763b",
   "metadata": {},
   "outputs": [
    {
     "name": "stdout",
     "output_type": "stream",
     "text": [
      "tired am I\n"
     ]
    }
   ],
   "source": [
    "def reverse_sentence(sentence):\n",
    "    words = sentence.split()\n",
    "    words.reverse()\n",
    "    reversed_sentence = ' '.join(words)\n",
    "    return reversed_sentence\n",
    "input_sentence = 'I am tired'\n",
    "output_sentence = reverse_sentence(input_sentence)\n",
    "print(output_sentence)"
   ]
  },
  {
   "cell_type": "markdown",
   "id": "0110b79d",
   "metadata": {},
   "source": [
    "**8.** Write a Python function to store all the factors of an input number in a number list, and then return this number list.\n",
    "\n",
    "For instance, if the given number is `6`, then return `[1, 2, 3, 6]`\n"
   ]
  },
  {
   "cell_type": "code",
   "execution_count": null,
   "id": "11ef46da",
   "metadata": {},
   "outputs": [],
   "source": []
  },
  {
   "cell_type": "code",
   "execution_count": 41,
   "id": "3bf0a522",
   "metadata": {},
   "outputs": [
    {
     "name": "stdout",
     "output_type": "stream",
     "text": [
      "[1, 2, 3, 6]\n"
     ]
    }
   ],
   "source": [
    "def find_factors(input_number):\n",
    "    factors = [] \n",
    "    for i in range(1, input_number + 1):\n",
    "        if input_number % i == 0:\n",
    "            factors.append(i)\n",
    "\n",
    "    return factors\n",
    "input_number = 6\n",
    "result = find_factors(input_number)\n",
    "print(result)\n"
   ]
  },
  {
   "cell_type": "code",
   "execution_count": 42,
   "id": "d5c99f87",
   "metadata": {},
   "outputs": [
    {
     "name": "stdout",
     "output_type": "stream",
     "text": [
      "[1, 2, 3, 4, 6, 12]\n"
     ]
    }
   ],
   "source": [
    "def find_factors(input_number):\n",
    "    factors = [] \n",
    "    for i in range(1, input_number + 1):\n",
    "        if input_number % i == 0:\n",
    "            factors.append(i)\n",
    "\n",
    "    return factors\n",
    "input_number = 12\n",
    "result = find_factors(input_number)\n",
    "print(result)\n"
   ]
  },
  {
   "cell_type": "code",
   "execution_count": null,
   "id": "8ecd447c",
   "metadata": {},
   "outputs": [],
   "source": []
  },
  {
   "cell_type": "markdown",
   "id": "445c8bff",
   "metadata": {},
   "source": [
    "**9.** Write a Python function to check if an input number is a perfect number or not. Return `True` if the number is a perfect number, otherwise return `False`\n",
    "\n",
    "According to Wikipedia : In number theory, a perfect number is a positive integer that is equal to the sum of its proper positive divisors except itself. That is, the sum of its positive divisors excluding the number itself (also known as its aliquot sum).\n",
    "\n",
    "Example : The first perfect number is 6, because 1, 2, and 3 are its positive divisors, and 1 + 2 + 3 = 6. The next perfect number is 28 = 1 + 2 + 4 + 7 + 14.\n",
    "\n",
    "Try the following numbers to test your codes: 6, 28, 100, 8128"
   ]
  },
  {
   "cell_type": "code",
   "execution_count": 43,
   "id": "b87905ed",
   "metadata": {},
   "outputs": [
    {
     "name": "stdout",
     "output_type": "stream",
     "text": [
      "Enter a number: 6\n",
      "6 is a perfect number.\n"
     ]
    }
   ],
   "source": [
    "def is_perfect_number(num):\n",
    "    if num <= 0:\n",
    "        return False\n",
    "    divisors = [i for i in range(1, num) if num % i == 0]\n",
    "    divisor_sum = sum(divisors)\n",
    "    return divisor_sum == num\n",
    "num = int(input(\"Enter a number: \"))\n",
    "if is_perfect_number(num):\n",
    "    print(f\"{num} is a perfect number.\")\n",
    "else:\n",
    "    print(f\"{num} is not a perfect number.\")\n"
   ]
  },
  {
   "cell_type": "code",
   "execution_count": 44,
   "id": "9eb16757",
   "metadata": {},
   "outputs": [
    {
     "name": "stdout",
     "output_type": "stream",
     "text": [
      "Enter a number: 28\n",
      "28 is a perfect number.\n"
     ]
    }
   ],
   "source": [
    "def is_perfect_number(num):\n",
    "    if num <= 0:\n",
    "        return False\n",
    "    divisors = [i for i in range(1, num) if num % i == 0]\n",
    "    divisor_sum = sum(divisors)\n",
    "    return divisor_sum == num\n",
    "num = int(input(\"Enter a number: \"))\n",
    "if is_perfect_number(num):\n",
    "    print(f\"{num} is a perfect number.\")\n",
    "else:\n",
    "    print(f\"{num} is not a perfect number.\")"
   ]
  },
  {
   "cell_type": "code",
   "execution_count": 45,
   "id": "a86fc8c3",
   "metadata": {},
   "outputs": [
    {
     "name": "stdout",
     "output_type": "stream",
     "text": [
      "Enter a number: 100\n",
      "100 is not a perfect number.\n"
     ]
    }
   ],
   "source": [
    "def is_perfect_number(num):\n",
    "    if num <= 0:\n",
    "        return False\n",
    "    divisors = [i for i in range(1, num) if num % i == 0]\n",
    "    divisor_sum = sum(divisors)\n",
    "    return divisor_sum == num\n",
    "num = int(input(\"Enter a number: \"))\n",
    "if is_perfect_number(num):\n",
    "    print(f\"{num} is a perfect number.\")\n",
    "else:\n",
    "    print(f\"{num} is not a perfect number.\")"
   ]
  },
  {
   "cell_type": "code",
   "execution_count": 46,
   "id": "821219e5",
   "metadata": {},
   "outputs": [
    {
     "name": "stdout",
     "output_type": "stream",
     "text": [
      "Enter a number: 8128\n",
      "8128 is a perfect number.\n"
     ]
    }
   ],
   "source": [
    "def is_perfect_number(num):\n",
    "    if num <= 0:\n",
    "        return False\n",
    "    divisors = [i for i in range(1, num) if num % i == 0]\n",
    "    divisor_sum = sum(divisors)\n",
    "    return divisor_sum == num\n",
    "num = int(input(\"Enter a number: \"))\n",
    "if is_perfect_number(num):\n",
    "    print(f\"{num} is a perfect number.\")\n",
    "else:\n",
    "    print(f\"{num} is not a perfect number.\")"
   ]
  },
  {
   "cell_type": "markdown",
   "id": "212e7cfe",
   "metadata": {},
   "source": [
    "**10.** Given a certain range of numbers [2, 100], return 4 number lists such that\n",
    "    \n",
    "    The first number list contains all the even numbers in the range of numbers\n",
    "    The second number list contains all the prime numbers in the range of numbers\n",
    "    The third number list contains all the perfect numbers in the range of numbers\n",
    "    The fourth number list contains all the numbers that is multiple of 3\n",
    "    \n",
    "For example, for range [2, 10], we should return:\n",
    "    \n",
    "    The even number list: [2, 4, 6, 8, 10]\n",
    "    The prime number list: [2, 3, 5, 7]\n",
    "    The perfect number list: [6]\n",
    "    The 3x number list: [3, 6, 9]\n",
    "\n",
    "Tips: you need to define 4 different functions to generate the above 4 number lists. And organize the three functions into one final function. Therefore in total 5 functions.\n",
    "\n",
    "    def check_even\n",
    "    \n",
    "    def check_prime\n",
    "    \n",
    "    def check_perfect\n",
    "    \n",
    "    def check_three\n",
    "    \n",
    "    def check_list"
   ]
  },
  {
   "cell_type": "code",
   "execution_count": 84,
   "id": "1e7eebd7",
   "metadata": {},
   "outputs": [],
   "source": [
    "def check_even(num):\n",
    "    return num%2 == 0"
   ]
  },
  {
   "cell_type": "code",
   "execution_count": 133,
   "id": "aab3ec57",
   "metadata": {},
   "outputs": [],
   "source": [
    "def check_prime(num):\n",
    "    if num > 1:\n",
    "        for i in range(2, num):\n",
    "            if num%1 == 0: return False\n",
    "        return True\n",
    "    else:\n",
    "        print('Enter a number > 1')\n",
    "        return False\n",
    "   \n",
    "       "
   ]
  },
  {
   "cell_type": "code",
   "execution_count": 128,
   "id": "ef0c47f3",
   "metadata": {},
   "outputs": [],
   "source": [
    "def check_perfect(num):\n",
    "    if num <= 1:\n",
    "        return False\n",
    "    divisors = [i for i in range(1, num) if num % i == 0]\n",
    "    return sum(divisors) == num\n",
    "    \n"
   ]
  },
  {
   "cell_type": "code",
   "execution_count": 94,
   "id": "0780fcd3",
   "metadata": {},
   "outputs": [],
   "source": [
    "def check_three(num):\n",
    "    result_list = []\n",
    "    if num%3 == 0:\n",
    "        return True\n",
    "    "
   ]
  },
  {
   "cell_type": "code",
   "execution_count": 134,
   "id": "8de65444",
   "metadata": {},
   "outputs": [
    {
     "name": "stdout",
     "output_type": "stream",
     "text": [
      "The even number list: [2, 4, 6, 8, 10, 12, 14, 16, 18, 20, 22, 24, 26, 28, 30, 32, 34, 36, 38, 40, 42, 44, 46, 48, 50, 52, 54, 56, 58, 60, 62, 64, 66, 68, 70, 72, 74, 76, 78, 80, 82, 84, 86, 88, 90, 92, 94, 96, 98, 100]\n",
      "The prime number list: [2]\n",
      "The perfect number list: [6, 28]\n",
      "The 3x number list: [3, 6, 9, 12, 15, 18, 21, 24, 27, 30, 33, 36, 39, 42, 45, 48, 51, 54, 57, 60, 63, 66, 69, 72, 75, 78, 81, 84, 87, 90, 93, 96, 99]\n"
     ]
    }
   ],
   "source": [
    "def check_list(start, end):\n",
    "    even_numbers = [num for num in range(start, end + 1) if check_even(num)]\n",
    "    prime_numbers = [num for num in range(start, end + 1) if check_prime(num)]\n",
    "    perfect_numbers = [num for num in range(start, end + 1) if check_perfect(num)]\n",
    "    multiple_of_three = [num for num in range(start, end + 1) if check_three(num)]\n",
    "    return even_numbers, prime_numbers, perfect_numbers, multiple_of_three\n",
    "start = 2\n",
    "end = 100\n",
    "even_list, prime_list, perfect_list, three_list = check_list(start, end)\n",
    "\n",
    "print(\"The even number list:\", even_list)\n",
    "print(\"The prime number list:\", prime_list)\n",
    "print(\"The perfect number list:\", perfect_list)\n",
    "print(\"The 3x number list:\", three_list)"
   ]
  },
  {
   "cell_type": "code",
   "execution_count": null,
   "id": "e5fe5fd2",
   "metadata": {},
   "outputs": [],
   "source": []
  },
  {
   "cell_type": "code",
   "execution_count": null,
   "id": "76386036",
   "metadata": {},
   "outputs": [],
   "source": []
  },
  {
   "cell_type": "code",
   "execution_count": null,
   "id": "022f56c2",
   "metadata": {},
   "outputs": [],
   "source": []
  },
  {
   "cell_type": "code",
   "execution_count": null,
   "id": "e94827a9",
   "metadata": {},
   "outputs": [],
   "source": []
  },
  {
   "cell_type": "code",
   "execution_count": null,
   "id": "2c1a91e0",
   "metadata": {},
   "outputs": [],
   "source": []
  }
 ],
 "metadata": {
  "kernelspec": {
   "display_name": "Python 3 (ipykernel)",
   "language": "python",
   "name": "python3"
  },
  "language_info": {
   "codemirror_mode": {
    "name": "ipython",
    "version": 3
   },
   "file_extension": ".py",
   "mimetype": "text/x-python",
   "name": "python",
   "nbconvert_exporter": "python",
   "pygments_lexer": "ipython3",
   "version": "3.11.4"
  }
 },
 "nbformat": 4,
 "nbformat_minor": 5
}
